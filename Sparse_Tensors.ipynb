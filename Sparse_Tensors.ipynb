{
 "cells": [
  {
   "cell_type": "markdown",
   "metadata": {},
   "source": [
    "# Sparse Tensors"
   ]
  },
  {
   "cell_type": "code",
   "execution_count": 1,
   "metadata": {},
   "outputs": [],
   "source": [
    "from __future__ import print_function\n",
    "import tensorflow as tf\n",
    "import numpy as np"
   ]
  },
  {
   "cell_type": "code",
   "execution_count": 2,
   "metadata": {},
   "outputs": [
    {
     "data": {
      "text/plain": [
       "datetime.date(2018, 4, 27)"
      ]
     },
     "execution_count": 2,
     "metadata": {},
     "output_type": "execute_result"
    }
   ],
   "source": [
    "from datetime import date\n",
    "date.today()"
   ]
  },
  {
   "cell_type": "code",
   "execution_count": 3,
   "metadata": {},
   "outputs": [],
   "source": [
    "author = \"kyubyong. https://github.com/Kyubyong/tensorflow-exercises\""
   ]
  },
  {
   "cell_type": "code",
   "execution_count": 4,
   "metadata": {},
   "outputs": [
    {
     "data": {
      "text/plain": [
       "'1.5.0'"
      ]
     },
     "execution_count": 4,
     "metadata": {},
     "output_type": "execute_result"
    }
   ],
   "source": [
    "tf.__version__"
   ]
  },
  {
   "cell_type": "code",
   "execution_count": 5,
   "metadata": {},
   "outputs": [
    {
     "data": {
      "text/plain": [
       "'1.14.1'"
      ]
     },
     "execution_count": 5,
     "metadata": {},
     "output_type": "execute_result"
    }
   ],
   "source": [
    "np.__version__"
   ]
  },
  {
   "cell_type": "code",
   "execution_count": 6,
   "metadata": {},
   "outputs": [],
   "source": [
    "sess = tf.InteractiveSession()"
   ]
  },
  {
   "cell_type": "markdown",
   "metadata": {},
   "source": [
    "## Sparse Tensor Representation & Conversion"
   ]
  },
  {
   "cell_type": "markdown",
   "metadata": {},
   "source": [
    "Q1. Convert tensor x into a `SparseTensor`."
   ]
  },
  {
   "cell_type": "code",
   "execution_count": 9,
   "metadata": {},
   "outputs": [
    {
     "name": "stdout",
     "output_type": "stream",
     "text": [
      "SparseTensorValue(indices=array([[0, 0],\n",
      "       [1, 2]]), values=array([1, 2], dtype=int32), dense_shape=array([3, 4]))\n"
     ]
    }
   ],
   "source": [
    "x = tf.constant([[1, 0, 0, 0],\n",
    "                 [0, 0, 2, 0],\n",
    "                 [0, 0, 0, 0]], dtype=tf.int32)\n",
    "sp = tf.SparseTensor([[0,0],[1,2]], values= [1,2], dense_shape=[3,4])\n",
    "print(sp.eval())"
   ]
  },
  {
   "cell_type": "markdown",
   "metadata": {},
   "source": [
    "Q2. Investigate the `dtype`, `indices`, `dense_shape` and `values` of the SparseTensor `sp` in Q1."
   ]
  },
  {
   "cell_type": "code",
   "execution_count": 14,
   "metadata": {},
   "outputs": [
    {
     "name": "stdout",
     "output_type": "stream",
     "text": [
      "dtype: <class 'tensorflow.python.framework.sparse_tensor.SparseTensorValue'>\n",
      "indices: Tensor(\"SparseTensor/indices:0\", shape=(2, 2), dtype=int64)\n",
      "dense_shape: Tensor(\"SparseTensor/dense_shape:0\", shape=(2,), dtype=int64)\n",
      "values: Tensor(\"SparseTensor/values:0\", shape=(2,), dtype=int32)\n"
     ]
    }
   ],
   "source": [
    "sparse = sp.eval()\n",
    "print(\"dtype:\", type(sp.eval()))\n",
    "print(\"indices:\", sp.indices)\n",
    "print(\"dense_shape:\", sp.dense_shape)\n",
    "print(\"values:\", sp.values)"
   ]
  },
  {
   "cell_type": "markdown",
   "metadata": {},
   "source": [
    "Q3. Let's write a custom function that converts a SparseTensor to Tensor. Complete it."
   ]
  },
  {
   "cell_type": "code",
   "execution_count": 15,
   "metadata": {},
   "outputs": [
    {
     "name": "stdout",
     "output_type": "stream",
     "text": [
      "SparseTensorValue(indices=array([[0, 0],\n",
      "       [1, 2]]), values=array([0, 1], dtype=int32), dense_shape=array([3, 4]))\n"
     ]
    }
   ],
   "source": [
    "def dense_to_sparse(tensor):\n",
    "    indices = tf.where(tf.not_equal(tensor, 0))\n",
    "    return tf.SparseTensor(indices=indices,\n",
    "                           values=tf.gather_nd(tensor, indices)-1,  # for zero-based index\n",
    "                           dense_shape=tf.to_int64(tf.shape(tensor)))\n",
    "\n",
    "# Test\n",
    "print(dense_to_sparse(x).eval())"
   ]
  },
  {
   "cell_type": "markdown",
   "metadata": {},
   "source": [
    "Q4. Convert the SparseTensor `sp` to a Tensor using `tf.sparse_to_dense`."
   ]
  },
  {
   "cell_type": "code",
   "execution_count": 19,
   "metadata": {},
   "outputs": [
    {
     "name": "stdout",
     "output_type": "stream",
     "text": [
      "[[1 0 0 0]\n",
      " [0 0 2 0]\n",
      " [0 0 0 0]]\n",
      "Check if this is identical with x:\n",
      " [[1 0 0 0]\n",
      " [0 0 2 0]\n",
      " [0 0 0 0]]\n"
     ]
    }
   ],
   "source": [
    "output = tf.sparse_to_dense(sparse_indices=[[0, 0], [1, 2]], sparse_values=[1, 2], output_shape=[3, 4])\n",
    "print(output.eval())\n",
    "print(\"Check if this is identical with x:\\n\", x.eval())"
   ]
  },
  {
   "cell_type": "markdown",
   "metadata": {},
   "source": [
    "Q5. Convert the SparseTensor `sp` to a Tensor using `tf.sparse_tensor_to_dense`."
   ]
  },
  {
   "cell_type": "code",
   "execution_count": 20,
   "metadata": {
    "scrolled": true
   },
   "outputs": [
    {
     "name": "stdout",
     "output_type": "stream",
     "text": [
      "[[1 0 0 0]\n",
      " [0 0 2 0]\n",
      " [0 0 0 0]]\n",
      "Check if this is identical with x:\n",
      " [[1 0 0 0]\n",
      " [0 0 2 0]\n",
      " [0 0 0 0]]\n"
     ]
    }
   ],
   "source": [
    "output = tf.sparse_tensor_to_dense(sp)\n",
    "print(output.eval())\n",
    "print(\"Check if this is identical with x:\\n\", x.eval())"
   ]
  },
  {
   "cell_type": "code",
   "execution_count": null,
   "metadata": {
    "collapsed": true
   },
   "outputs": [],
   "source": []
  }
 ],
 "metadata": {
  "anaconda-cloud": {},
  "kernelspec": {
   "display_name": "Python 3",
   "language": "python",
   "name": "python3"
  },
  "language_info": {
   "codemirror_mode": {
    "name": "ipython",
    "version": 3
   },
   "file_extension": ".py",
   "mimetype": "text/x-python",
   "name": "python",
   "nbconvert_exporter": "python",
   "pygments_lexer": "ipython3",
   "version": "3.6.4"
  }
 },
 "nbformat": 4,
 "nbformat_minor": 1
}
