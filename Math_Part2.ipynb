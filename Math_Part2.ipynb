{
 "cells": [
  {
   "cell_type": "markdown",
   "metadata": {},
   "source": [
    "# Math Part 2"
   ]
  },
  {
   "cell_type": "code",
   "execution_count": 1,
   "metadata": {},
   "outputs": [],
   "source": [
    "from __future__ import print_function\n",
    "import tensorflow as tf\n",
    "import numpy as np"
   ]
  },
  {
   "cell_type": "code",
   "execution_count": 2,
   "metadata": {},
   "outputs": [
    {
     "data": {
      "text/plain": [
       "datetime.date(2018, 4, 26)"
      ]
     },
     "execution_count": 2,
     "metadata": {},
     "output_type": "execute_result"
    }
   ],
   "source": [
    "from datetime import date\n",
    "date.today()"
   ]
  },
  {
   "cell_type": "code",
   "execution_count": 3,
   "metadata": {},
   "outputs": [],
   "source": [
    "author = \"kyubyong. https://github.com/Kyubyong/tensorflow-exercises\""
   ]
  },
  {
   "cell_type": "code",
   "execution_count": 4,
   "metadata": {},
   "outputs": [
    {
     "data": {
      "text/plain": [
       "'1.5.0'"
      ]
     },
     "execution_count": 4,
     "metadata": {},
     "output_type": "execute_result"
    }
   ],
   "source": [
    "tf.__version__"
   ]
  },
  {
   "cell_type": "code",
   "execution_count": 5,
   "metadata": {},
   "outputs": [
    {
     "data": {
      "text/plain": [
       "'1.14.1'"
      ]
     },
     "execution_count": 5,
     "metadata": {},
     "output_type": "execute_result"
    }
   ],
   "source": [
    "np.__version__"
   ]
  },
  {
   "cell_type": "code",
   "execution_count": 6,
   "metadata": {},
   "outputs": [],
   "source": [
    "sess = tf.InteractiveSession()"
   ]
  },
  {
   "cell_type": "markdown",
   "metadata": {},
   "source": [
    "NOTE on notation\n",
    "* _x, _y, _z, ...: NumPy 0-d or 1-d arrays\n",
    "* _X, _Y, _Z, ...: NumPy 2-d or higer dimensional arrays\n",
    "* x, y, z, ...: 0-d or 1-d tensors\n",
    "* X, Y, Z, ...: 2-d or higher dimensional tensors"
   ]
  },
  {
   "cell_type": "markdown",
   "metadata": {},
   "source": [
    "## Matrix Math Functions"
   ]
  },
  {
   "cell_type": "markdown",
   "metadata": {},
   "source": [
    "Q1. Create a diagonal tensor with the diagonal values of x."
   ]
  },
  {
   "cell_type": "code",
   "execution_count": 9,
   "metadata": {},
   "outputs": [
    {
     "data": {
      "text/plain": [
       "array([[1, 0, 0, 0],\n",
       "       [0, 2, 0, 0],\n",
       "       [0, 0, 3, 0],\n",
       "       [0, 0, 0, 4]])"
      ]
     },
     "execution_count": 9,
     "metadata": {},
     "output_type": "execute_result"
    }
   ],
   "source": [
    "_x = np.array([1, 2, 3, 4])\n",
    "x = tf.convert_to_tensor(_x)\n",
    "\n",
    "tf.diag(x).eval()"
   ]
  },
  {
   "cell_type": "markdown",
   "metadata": {},
   "source": [
    "Q2. Extract the diagonal of X."
   ]
  },
  {
   "cell_type": "code",
   "execution_count": 11,
   "metadata": {},
   "outputs": [
    {
     "data": {
      "text/plain": [
       "array([1, 2, 3, 4])"
      ]
     },
     "execution_count": 11,
     "metadata": {},
     "output_type": "execute_result"
    }
   ],
   "source": [
    "_X = np.array(\n",
    "[[1, 0, 0, 0],\n",
    " [0, 2, 0, 0],\n",
    " [0, 0, 3, 0],\n",
    " [0, 0, 0, 4]])\n",
    "X = tf.convert_to_tensor(_X)\n",
    "\n",
    "tf.diag_part(X).eval()"
   ]
  },
  {
   "cell_type": "markdown",
   "metadata": {},
   "source": [
    "Q3. Permutate the dimensions of x such that the new tensor has shape (3, 4, 2)."
   ]
  },
  {
   "cell_type": "code",
   "execution_count": 20,
   "metadata": {},
   "outputs": [
    {
     "name": "stdout",
     "output_type": "stream",
     "text": [
      "X\n",
      "[[[0.47965825 0.01339785 0.49738173 0.41459205]\n",
      "  [0.89447506 0.26243401 0.91107874 0.38525125]\n",
      "  [0.50243375 0.72586606 0.80011494 0.95435065]]\n",
      "\n",
      " [[0.65931342 0.42383856 0.2604992  0.71747069]\n",
      "  [0.9336796  0.74248048 0.04379884 0.40575994]\n",
      "  [0.04643247 0.10325821 0.51330666 0.88882054]]]\n",
      "Transpose\n",
      "[[[0.47965825 0.65931342]\n",
      "  [0.01339785 0.42383856]\n",
      "  [0.49738173 0.2604992 ]\n",
      "  [0.41459205 0.71747069]]\n",
      "\n",
      " [[0.89447506 0.9336796 ]\n",
      "  [0.26243401 0.74248048]\n",
      "  [0.91107874 0.04379884]\n",
      "  [0.38525125 0.40575994]]\n",
      "\n",
      " [[0.50243375 0.04643247]\n",
      "  [0.72586606 0.10325821]\n",
      "  [0.80011494 0.51330666]\n",
      "  [0.95435065 0.88882054]]]\n"
     ]
    }
   ],
   "source": [
    "_X = np.random.rand(2,3,4)\n",
    "X = tf.convert_to_tensor(_X)\n",
    "\n",
    "out = tf.transpose(X, [1, 2, 0])\n",
    "\n",
    "print(\"X\")\n",
    "print(_X)\n",
    "print(\"Transpose\")\n",
    "print(out.eval())"
   ]
  },
  {
   "cell_type": "markdown",
   "metadata": {},
   "source": [
    "Q4. Construct a 3 by 3 identity matrix."
   ]
  },
  {
   "cell_type": "code",
   "execution_count": 27,
   "metadata": {},
   "outputs": [
    {
     "data": {
      "text/plain": [
       "array([[1., 0., 0.],\n",
       "       [0., 1., 0.],\n",
       "       [0., 0., 1.]], dtype=float32)"
      ]
     },
     "execution_count": 27,
     "metadata": {},
     "output_type": "execute_result"
    }
   ],
   "source": [
    "tf.eye(3).eval()"
   ]
  },
  {
   "cell_type": "markdown",
   "metadata": {},
   "source": [
    "Q5. Predict the result of this."
   ]
  },
  {
   "cell_type": "code",
   "execution_count": 28,
   "metadata": {},
   "outputs": [
    {
     "name": "stdout",
     "output_type": "stream",
     "text": [
      "diagonal_tensor =\n",
      " [[[1 0 0 0]\n",
      "  [0 2 0 0]\n",
      "  [0 0 3 0]\n",
      "  [0 0 0 4]]\n",
      "\n",
      " [[5 0 0 0]\n",
      "  [0 6 0 0]\n",
      "  [0 0 7 0]\n",
      "  [0 0 0 8]]]\n",
      "diagonal_part =\n",
      " [[1 2 3 4]\n",
      " [5 6 7 8]]\n"
     ]
    }
   ],
   "source": [
    "_X = np.array([[1, 2, 3, 4], [5, 6, 7, 8]])\n",
    "X = tf.convert_to_tensor(_X)\n",
    "\n",
    "diagonal_tensor = tf.matrix_diag(X)\n",
    "diagonal_part = tf.matrix_diag_part(diagonal_tensor)\n",
    "\n",
    "print(\"diagonal_tensor =\\n\", diagonal_tensor.eval())\n",
    "print(\"diagonal_part =\\n\", diagonal_part.eval())\n"
   ]
  },
  {
   "cell_type": "markdown",
   "metadata": {},
   "source": [
    "Q6. Transpose the last two dimensions of X."
   ]
  },
  {
   "cell_type": "code",
   "execution_count": 32,
   "metadata": {},
   "outputs": [
    {
     "name": "stdout",
     "output_type": "stream",
     "text": [
      "X\n",
      "[[[[0.14704674 0.12420213 0.91406271 0.72998899]\n",
      "   [0.08306211 0.08708485 0.69543132 0.47772608]\n",
      "   [0.94154137 0.049686   0.35410933 0.0689639 ]]\n",
      "\n",
      "  [[0.2106135  0.81850191 0.66936526 0.76392977]\n",
      "   [0.01428204 0.45530336 0.16963177 0.61237312]\n",
      "   [0.87727663 0.15967411 0.40825359 0.64097417]]]]\n",
      "transpose\n",
      "[[[[0.14704674 0.08306211 0.94154137]\n",
      "   [0.12420213 0.08708485 0.049686  ]\n",
      "   [0.91406271 0.69543132 0.35410933]\n",
      "   [0.72998899 0.47772608 0.0689639 ]]\n",
      "\n",
      "  [[0.2106135  0.01428204 0.87727663]\n",
      "   [0.81850191 0.45530336 0.15967411]\n",
      "   [0.66936526 0.16963177 0.40825359]\n",
      "   [0.76392977 0.61237312 0.64097417]]]]\n"
     ]
    }
   ],
   "source": [
    "_X= np.random.rand(1, 2, 3, 4)\n",
    "X = tf.convert_to_tensor(_X)\n",
    "\n",
    "print(\"X\")\n",
    "print(_X)\n",
    "print(\"transpose\")\n",
    "print(tf.transpose(X,[0,1,3,2]).eval())"
   ]
  },
  {
   "cell_type": "markdown",
   "metadata": {},
   "source": [
    "Q7. Multiply X by Y."
   ]
  },
  {
   "cell_type": "code",
   "execution_count": 45,
   "metadata": {},
   "outputs": [
    {
     "name": "stdout",
     "output_type": "stream",
     "text": [
      "[[14 14]\n",
      " [32 32]]\n"
     ]
    }
   ],
   "source": [
    "_X = np.array([[1, 2, 3], [4, 5, 6]])\n",
    "_Y = np.array([[1, 1], [2, 2], [3, 3]])\n",
    "X = tf.convert_to_tensor(_X,dtype=np.int32)\n",
    "Y = tf.convert_to_tensor(_Y,dtype=np.int32)\n",
    "\n",
    "out = tf.matmul(X, Y)\n",
    "print(out.eval())\n",
    "\n",
    "_out = np.dot(_X, _Y)\n",
    "assert np.array_equal(out.eval(), _out)"
   ]
  },
  {
   "cell_type": "markdown",
   "metadata": {},
   "source": [
    "Q8. Multiply X and Y. The first axis represents batches."
   ]
  },
  {
   "cell_type": "code",
   "execution_count": 14,
   "metadata": {},
   "outputs": [
    {
     "name": "stdout",
     "output_type": "stream",
     "text": [
      "[[[ 94 100]\n",
      "  [229 244]]\n",
      "\n",
      " [[508 532]\n",
      "  [697 730]]]\n"
     ]
    }
   ],
   "source": [
    "_X = np.arange(1, 13, dtype=np.int32).reshape((2, 2, 3))\n",
    "_Y = np.arange(13, 25, dtype=np.int32).reshape((2, 3, 2))\n",
    "X = tf.convert_to_tensor(_X)\n",
    "Y = tf.convert_to_tensor(_Y)\n",
    "\n",
    "\n"
   ]
  },
  {
   "cell_type": "code",
   "execution_count": 47,
   "metadata": {},
   "outputs": [
    {
     "name": "stdout",
     "output_type": "stream",
     "text": [
      "[[[ 1  2  3]\n",
      "  [ 4  5  6]]\n",
      "\n",
      " [[ 7  8  9]\n",
      "  [10 11 12]]]\n"
     ]
    }
   ],
   "source": [
    "_X = np.arange(1, 13, dtype=np.int32).reshape((2, 2, 3))\n",
    "_Y = np.arange(13, 25, dtype=np.int32).reshape((2, 3, 2))\n",
    "X = tf.convert_to_tensor(_X)\n",
    "Y = tf.convert_to_tensor(_Y)\n",
    "\n",
    "print(_X)"
   ]
  },
  {
   "cell_type": "code",
   "execution_count": 48,
   "metadata": {},
   "outputs": [
    {
     "name": "stdout",
     "output_type": "stream",
     "text": [
      "[[[13 14]\n",
      "  [15 16]\n",
      "  [17 18]]\n",
      "\n",
      " [[19 20]\n",
      "  [21 22]\n",
      "  [23 24]]]\n"
     ]
    }
   ],
   "source": [
    "print(_Y)"
   ]
  },
  {
   "cell_type": "code",
   "execution_count": 51,
   "metadata": {},
   "outputs": [
    {
     "data": {
      "text/plain": [
       "array([[[ 94, 100],\n",
       "        [229, 244]],\n",
       "\n",
       "       [[508, 532],\n",
       "        [697, 730]]], dtype=int32)"
      ]
     },
     "execution_count": 51,
     "metadata": {},
     "output_type": "execute_result"
    }
   ],
   "source": [
    "tf.matmul(X,Y).eval()"
   ]
  },
  {
   "cell_type": "markdown",
   "metadata": {},
   "source": [
    "Q9. Compute the determinant of X."
   ]
  },
  {
   "cell_type": "code",
   "execution_count": 53,
   "metadata": {},
   "outputs": [
    {
     "data": {
      "text/plain": [
       "-2.0"
      ]
     },
     "execution_count": 53,
     "metadata": {},
     "output_type": "execute_result"
    }
   ],
   "source": [
    "_X = np.arange(1, 5, dtype=np.float32).reshape((2, 2))\n",
    "X = tf.convert_to_tensor(_X)\n",
    "\n",
    "tf.matrix_determinant(X).eval()"
   ]
  },
  {
   "cell_type": "markdown",
   "metadata": {},
   "source": [
    "Q10. Compute the inverse of X.\n"
   ]
  },
  {
   "cell_type": "code",
   "execution_count": 54,
   "metadata": {},
   "outputs": [
    {
     "data": {
      "text/plain": [
       "array([[-2. ,  1. ],\n",
       "       [ 1.5, -0.5]])"
      ]
     },
     "execution_count": 54,
     "metadata": {},
     "output_type": "execute_result"
    }
   ],
   "source": [
    "_X = np.arange(1, 5, dtype=np.float64).reshape((2, 2))\n",
    "X = tf.convert_to_tensor(_X)\n",
    "\n",
    "tf.matrix_inverse(X).eval()"
   ]
  },
  {
   "cell_type": "markdown",
   "metadata": {},
   "source": [
    "Q11. Get the lower-trianglular in the Cholesky decomposition of X."
   ]
  },
  {
   "cell_type": "code",
   "execution_count": 55,
   "metadata": {},
   "outputs": [
    {
     "data": {
      "text/plain": [
       "array([[ 2.,  0.,  0.],\n",
       "       [ 6.,  1.,  0.],\n",
       "       [-8.,  5.,  3.]], dtype=float32)"
      ]
     },
     "execution_count": 55,
     "metadata": {},
     "output_type": "execute_result"
    }
   ],
   "source": [
    "_X = np.array([[4, 12, -16], [12, 37, -43], [-16, -43, 98]], np.float32)\n",
    "X = tf.convert_to_tensor(_X)\n",
    "\n",
    "tf.cholesky(X).eval()"
   ]
  },
  {
   "cell_type": "markdown",
   "metadata": {},
   "source": [
    "Q12. Compute the eigenvalues and eigenvectors of X."
   ]
  },
  {
   "cell_type": "code",
   "execution_count": 62,
   "metadata": {},
   "outputs": [
    {
     "name": "stdout",
     "output_type": "stream",
     "text": [
      "[1. 2. 3.]\n",
      "[[1. 0. 0.]\n",
      " [0. 1. 0.]\n",
      " [0. 0. 1.]]\n"
     ]
    }
   ],
   "source": [
    "_X = np.diag((1, 2, 3))\n",
    "X = tf.convert_to_tensor(_X, tf.float32)\n",
    "\n",
    "e= tf.linalg.eigh(X)\n",
    "print(e[0].eval())\n",
    "print(e[1].eval())"
   ]
  },
  {
   "cell_type": "markdown",
   "metadata": {},
   "source": [
    "Q13. Compute the singular values of X."
   ]
  },
  {
   "cell_type": "code",
   "execution_count": 65,
   "metadata": {},
   "outputs": [
    {
     "data": {
      "text/plain": [
       "array([3.      , 2.236068, 2.      , 0.      ], dtype=float32)"
      ]
     },
     "execution_count": 65,
     "metadata": {},
     "output_type": "execute_result"
    }
   ],
   "source": [
    "_X = np.array(\n",
    "[[1, 0, 0, 0, 2], \n",
    " [0, 0, 3, 0, 0], \n",
    " [0, 0, 0, 0, 0], \n",
    " [0, 2, 0, 0, 0]], dtype=np.float32)\n",
    "X = tf.convert_to_tensor(_X)\n",
    "\n",
    "tf.svd(X)[0].eval()"
   ]
  },
  {
   "cell_type": "markdown",
   "metadata": {},
   "source": [
    "## Reduction"
   ]
  },
  {
   "cell_type": "markdown",
   "metadata": {},
   "source": [
    "Q14. Predict the results of these."
   ]
  },
  {
   "cell_type": "code",
   "execution_count": 66,
   "metadata": {},
   "outputs": [
    {
     "name": "stdout",
     "output_type": "stream",
     "text": [
      "WARNING:tensorflow:From <ipython-input-66-beaecdbd4324>:8: calling reduce_sum (from tensorflow.python.ops.math_ops) with keep_dims is deprecated and will be removed in a future version.\n",
      "Instructions for updating:\n",
      "keep_dims is deprecated, use keepdims instead\n",
      "WARNING:tensorflow:From <ipython-input-66-beaecdbd4324>:12: calling reduce_prod (from tensorflow.python.ops.math_ops) with keep_dims is deprecated and will be removed in a future version.\n",
      "Instructions for updating:\n",
      "keep_dims is deprecated, use keepdims instead\n",
      "WARNING:tensorflow:From <ipython-input-66-beaecdbd4324>:16: calling reduce_min (from tensorflow.python.ops.math_ops) with keep_dims is deprecated and will be removed in a future version.\n",
      "Instructions for updating:\n",
      "keep_dims is deprecated, use keepdims instead\n",
      "WARNING:tensorflow:From <ipython-input-66-beaecdbd4324>:20: calling reduce_max (from tensorflow.python.ops.math_ops) with keep_dims is deprecated and will be removed in a future version.\n",
      "Instructions for updating:\n",
      "keep_dims is deprecated, use keepdims instead\n",
      "WARNING:tensorflow:From <ipython-input-66-beaecdbd4324>:24: calling reduce_mean (from tensorflow.python.ops.math_ops) with keep_dims is deprecated and will be removed in a future version.\n",
      "Instructions for updating:\n",
      "keep_dims is deprecated, use keepdims instead\n",
      "-> 36\n",
      "-> [ 6  8 10 12]\n",
      "-> [[10]\n",
      " [26]]\n",
      "\n",
      "-> 40320\n",
      "-> [ 5 12 21 32]\n",
      "-> [[  24]\n",
      " [1680]]\n",
      "\n",
      "-> 1\n",
      "-> [1 2 3 4]\n",
      "-> [[1]\n",
      " [5]]\n",
      "\n",
      "-> 8\n",
      "-> [5 6 7 8]\n",
      "-> [[4]\n",
      " [8]]\n",
      "\n",
      "-> 4\n",
      "-> [3 4 5 6]\n",
      "-> [[2]\n",
      " [6]]\n"
     ]
    }
   ],
   "source": [
    "_X = np.array(\n",
    "    [[1, 2, 3, 4],\n",
    "     [5, 6, 7, 8]])\n",
    "X = tf.convert_to_tensor(_X)\n",
    "\n",
    "outs = [tf.reduce_sum(X),\n",
    "        tf.reduce_sum(X, axis=0),\n",
    "        tf.reduce_sum(X, axis=1, keep_dims=True),\n",
    "        \"\",\n",
    "        tf.reduce_prod(X),\n",
    "        tf.reduce_prod(X, axis=0),\n",
    "        tf.reduce_prod(X, axis=1, keep_dims=True),\n",
    "        \"\",\n",
    "        tf.reduce_min(X),\n",
    "        tf.reduce_min(X, axis=0),\n",
    "        tf.reduce_min(X, axis=1, keep_dims=True),\n",
    "        \"\",\n",
    "        tf.reduce_max(X),\n",
    "        tf.reduce_max(X, axis=0),\n",
    "        tf.reduce_max(X, axis=1, keep_dims=True),\n",
    "        \"\",\n",
    "        tf.reduce_mean(X),\n",
    "        tf.reduce_mean(X, axis=0),\n",
    "        tf.reduce_mean(X, axis=1, keep_dims=True)\n",
    "           ]\n",
    "           \n",
    "for out in outs:\n",
    "    if out == \"\":\n",
    "        print()\n",
    "    else:\n",
    "        print(\"->\", out.eval())\n",
    "# If you remove the common suffix \"reduce_\", you will get the same \n",
    "# result in numpy."
   ]
  },
  {
   "cell_type": "markdown",
   "metadata": {},
   "source": [
    "Q15. Predict the results of these."
   ]
  },
  {
   "cell_type": "code",
   "execution_count": 68,
   "metadata": {},
   "outputs": [
    {
     "name": "stdout",
     "output_type": "stream",
     "text": [
      "WARNING:tensorflow:From <ipython-input-68-a92b510f172f>:7: calling reduce_all (from tensorflow.python.ops.math_ops) with keep_dims is deprecated and will be removed in a future version.\n",
      "Instructions for updating:\n",
      "keep_dims is deprecated, use keepdims instead\n",
      "WARNING:tensorflow:From <ipython-input-68-a92b510f172f>:11: calling reduce_any (from tensorflow.python.ops.math_ops) with keep_dims is deprecated and will be removed in a future version.\n",
      "Instructions for updating:\n",
      "keep_dims is deprecated, use keepdims instead\n",
      "-> [[2]\n",
      " [6]]\n"
     ]
    }
   ],
   "source": [
    "_X = np.array([[True, True],\n",
    "              [False, False]], np.bool)\n",
    "X = tf.convert_to_tensor(_X)\n",
    "\n",
    "outs = [tf.reduce_all(X),\n",
    "        tf.reduce_all(X, axis=0),\n",
    "        tf.reduce_all(X, axis=1, keep_dims=True),\n",
    "        \"\",\n",
    "        tf.reduce_any(X),\n",
    "        tf.reduce_any(X, axis=0),\n",
    "        tf.reduce_any(X, axis=1, keep_dims=True),\n",
    "        ]\n",
    "\n",
    "# for out in outs:\n",
    "if out == \"\":\n",
    "    print()\n",
    "else:\n",
    "    print(\"->\", out.eval())\n",
    "\n",
    "# If you remove the common suffix \"reduce_\", you will get the same \n",
    "# result in numpy."
   ]
  },
  {
   "cell_type": "markdown",
   "metadata": {},
   "source": [
    "Q16. Predict the results of these."
   ]
  },
  {
   "cell_type": "code",
   "execution_count": 69,
   "metadata": {},
   "outputs": [
    {
     "name": "stdout",
     "output_type": "stream",
     "text": [
      "WARNING:tensorflow:From <ipython-input-69-6b40c06db6ba>:7: calling count_nonzero (from tensorflow.python.ops.math_ops) with keep_dims is deprecated and will be removed in a future version.\n",
      "Instructions for updating:\n",
      "keep_dims is deprecated, use keepdims instead\n",
      "-> 3\n",
      "-> [1 2 0]\n",
      "-> [[1]\n",
      " [2]]\n"
     ]
    }
   ],
   "source": [
    "_X = np.array([[0, 1, 0],\n",
    "              [1, 1, 0]])\n",
    "X = tf.convert_to_tensor(_X)\n",
    "\n",
    "outs = [tf.count_nonzero(X),\n",
    "        tf.count_nonzero(X, axis=0),\n",
    "        tf.count_nonzero(X, axis=1, keep_dims=True),\n",
    "        ]\n",
    "\n",
    "for out in outs:\n",
    "    print(\"->\", out.eval())\n",
    "\n",
    "# tf.count_nonzero == np.count_nonzero"
   ]
  },
  {
   "cell_type": "markdown",
   "metadata": {},
   "source": [
    "Q17. Complete the einsum function that would yield the same result as the given function."
   ]
  },
  {
   "cell_type": "code",
   "execution_count": 73,
   "metadata": {},
   "outputs": [],
   "source": [
    "_X = np.arange(1, 7).reshape((2, 3))\n",
    "_Y = np.arange(1, 7).reshape((3, 2))\n",
    "\n",
    "X = tf.convert_to_tensor(_X, dtype=np.int32)\n",
    "Y = tf.convert_to_tensor(_Y, dtype=np.int32)\n"
   ]
  },
  {
   "cell_type": "code",
   "execution_count": 74,
   "metadata": {},
   "outputs": [],
   "source": [
    "\n",
    "# Matrix multiplication\n",
    "out1 = tf.matmul(X, Y)\n",
    "out1_ = tf.einsum('ij,jk->ik', X, Y)\n",
    "assert np.allclose(out1.eval(), out1_.eval())\n"
   ]
  }
 ],
 "metadata": {
  "anaconda-cloud": {},
  "kernelspec": {
   "display_name": "Python 3",
   "language": "python",
   "name": "python3"
  },
  "language_info": {
   "codemirror_mode": {
    "name": "ipython",
    "version": 3
   },
   "file_extension": ".py",
   "mimetype": "text/x-python",
   "name": "python",
   "nbconvert_exporter": "python",
   "pygments_lexer": "ipython3",
   "version": "3.6.4"
  }
 },
 "nbformat": 4,
 "nbformat_minor": 1
}
