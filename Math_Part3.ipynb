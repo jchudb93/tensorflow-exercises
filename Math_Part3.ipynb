{
 "cells": [
  {
   "cell_type": "markdown",
   "metadata": {},
   "source": [
    "# Math Part 3"
   ]
  },
  {
   "cell_type": "code",
   "execution_count": 1,
   "metadata": {},
   "outputs": [],
   "source": [
    "from __future__ import print_function\n",
    "import tensorflow as tf\n",
    "import numpy as np"
   ]
  },
  {
   "cell_type": "code",
   "execution_count": 2,
   "metadata": {},
   "outputs": [
    {
     "data": {
      "text/plain": [
       "datetime.date(2018, 4, 26)"
      ]
     },
     "execution_count": 2,
     "metadata": {},
     "output_type": "execute_result"
    }
   ],
   "source": [
    "from datetime import date\n",
    "date.today()"
   ]
  },
  {
   "cell_type": "code",
   "execution_count": 3,
   "metadata": {},
   "outputs": [],
   "source": [
    "author = \"kyubyong. https://github.com/Kyubyong/tensorflow-exercises\""
   ]
  },
  {
   "cell_type": "code",
   "execution_count": 4,
   "metadata": {},
   "outputs": [
    {
     "data": {
      "text/plain": [
       "'1.5.0'"
      ]
     },
     "execution_count": 4,
     "metadata": {},
     "output_type": "execute_result"
    }
   ],
   "source": [
    "tf.__version__"
   ]
  },
  {
   "cell_type": "code",
   "execution_count": 5,
   "metadata": {},
   "outputs": [
    {
     "data": {
      "text/plain": [
       "'1.14.1'"
      ]
     },
     "execution_count": 5,
     "metadata": {},
     "output_type": "execute_result"
    }
   ],
   "source": [
    "np.__version__"
   ]
  },
  {
   "cell_type": "code",
   "execution_count": 6,
   "metadata": {},
   "outputs": [],
   "source": [
    "sess = tf.InteractiveSession()"
   ]
  },
  {
   "cell_type": "markdown",
   "metadata": {},
   "source": [
    "NOTE on notation\n",
    "* _x, _y, _z, ...: NumPy 0-d or 1-d arrays\n",
    "* _X, _Y, _Z, ...: NumPy 2-d or higer dimensional arrays\n",
    "* x, y, z, ...: 0-d or 1-d tensors\n",
    "* X, Y, Z, ...: 2-d or higher dimensional tensors"
   ]
  },
  {
   "cell_type": "markdown",
   "metadata": {},
   "source": [
    "## Scan"
   ]
  },
  {
   "cell_type": "markdown",
   "metadata": {},
   "source": [
    "Q1. Compute the cumulative sum of X along the second axis."
   ]
  },
  {
   "cell_type": "code",
   "execution_count": 8,
   "metadata": {},
   "outputs": [
    {
     "data": {
      "text/plain": [
       "array([[1, 2, 3],\n",
       "       [5, 7, 9]])"
      ]
     },
     "execution_count": 8,
     "metadata": {},
     "output_type": "execute_result"
    }
   ],
   "source": [
    "_X = np.array([[1,2,3], [4,5,6]])\n",
    "X = tf.convert_to_tensor(_X)\n",
    "\n",
    "tf.cumsum(X).eval()"
   ]
  },
  {
   "cell_type": "markdown",
   "metadata": {},
   "source": [
    "Q2. Compute the cumulative product of X along the second axis."
   ]
  },
  {
   "cell_type": "code",
   "execution_count": 9,
   "metadata": {},
   "outputs": [
    {
     "data": {
      "text/plain": [
       "array([[ 1,  2,  3],\n",
       "       [ 4, 10, 18]])"
      ]
     },
     "execution_count": 9,
     "metadata": {},
     "output_type": "execute_result"
    }
   ],
   "source": [
    "_X = np.array([[1,2,3], [4,5,6]])\n",
    "X = tf.convert_to_tensor(_X)\n",
    "\n",
    "tf.cumprod(X).eval()"
   ]
  },
  {
   "cell_type": "markdown",
   "metadata": {},
   "source": [
    "## Segmentation"
   ]
  },
  {
   "cell_type": "markdown",
   "metadata": {},
   "source": [
    "Q3. Compute the sum along the first two elements and \n",
    "the last two elements of X separately."
   ]
  },
  {
   "cell_type": "code",
   "execution_count": 15,
   "metadata": {},
   "outputs": [
    {
     "data": {
      "text/plain": [
       "array([[0, 0, 0, 0],\n",
       "       [0, 0, 0, 0]])"
      ]
     },
     "execution_count": 15,
     "metadata": {},
     "output_type": "execute_result"
    }
   ],
   "source": [
    "_X = np.array(\n",
    "    [[1,2,3,4], \n",
    "     [-1,-2,-3,-4], \n",
    "     [-10,-20,-30,-40],\n",
    "     [10,20,30,40]])\n",
    "X = tf.convert_to_tensor(_X)\n",
    "\n",
    "tf.segment_sum(X,[0,0,1,1]).eval()"
   ]
  },
  {
   "cell_type": "markdown",
   "metadata": {},
   "source": [
    "Q4. Compute the product along the first two elements and the last two elements of X separately."
   ]
  },
  {
   "cell_type": "code",
   "execution_count": 17,
   "metadata": {},
   "outputs": [
    {
     "data": {
      "text/plain": [
       "array([[ 1.,  1.,  1.,  1.],\n",
       "       [-1., -2., -3., -4.]])"
      ]
     },
     "execution_count": 17,
     "metadata": {},
     "output_type": "execute_result"
    }
   ],
   "source": [
    "_X = np.array(\n",
    "    [[1,2,3,4], \n",
    "     [1,1/2,1/3,1/4], \n",
    "     [1,2,3,4],\n",
    "     [-1,-1,-1,-1]])\n",
    "X = tf.convert_to_tensor(_X)\n",
    "\n",
    "tf.segment_prod(X,[0,0,1,1]).eval()"
   ]
  },
  {
   "cell_type": "markdown",
   "metadata": {},
   "source": [
    "Q5. Compute the minimum along the first two elements and the last two elements of X separately."
   ]
  },
  {
   "cell_type": "code",
   "execution_count": 19,
   "metadata": {},
   "outputs": [
    {
     "data": {
      "text/plain": [
       "array([[ 1,  3,  5,  7],\n",
       "       [-1, -2, -3, -4]])"
      ]
     },
     "execution_count": 19,
     "metadata": {},
     "output_type": "execute_result"
    }
   ],
   "source": [
    "_X = np.array(\n",
    "    [[1,4,5,7], \n",
    "     [2,3,6,8], \n",
    "     [1,2,3,4],\n",
    "     [-1,-2,-3,-4]])\n",
    "X = tf.convert_to_tensor(_X)\n",
    "\n",
    "tf.segment_min(X,[0,0,1,1]).eval()\n"
   ]
  },
  {
   "cell_type": "markdown",
   "metadata": {},
   "source": [
    "Q6. Compute the maximum along the first two elements and the last two elements of X separately."
   ]
  },
  {
   "cell_type": "code",
   "execution_count": 20,
   "metadata": {},
   "outputs": [
    {
     "data": {
      "text/plain": [
       "array([[2, 4, 6, 8],\n",
       "       [1, 2, 3, 4]])"
      ]
     },
     "execution_count": 20,
     "metadata": {},
     "output_type": "execute_result"
    }
   ],
   "source": [
    "_X = np.array(\n",
    "    [[1,4,5,7], \n",
    "     [2,3,6,8], \n",
    "     [1,2,3,4],\n",
    "     [-1,-2,-3,-4]])\n",
    "X = tf.convert_to_tensor(_X)\n",
    "\n",
    "tf.segment_max(X,[0,0,1,1]).eval()"
   ]
  },
  {
   "cell_type": "markdown",
   "metadata": {},
   "source": [
    "Q7. Compute the mean along the first two elements and the last two elements of X separately."
   ]
  },
  {
   "cell_type": "code",
   "execution_count": 21,
   "metadata": {},
   "outputs": [
    {
     "data": {
      "text/plain": [
       "array([[ 3,  4,  5,  6],\n",
       "       [-3, -4, -5, -6]])"
      ]
     },
     "execution_count": 21,
     "metadata": {},
     "output_type": "execute_result"
    }
   ],
   "source": [
    "_X = np.array(\n",
    "    [[1,2,3,4], \n",
    "     [5,6,7,8], \n",
    "     [-1,-2,-3,-4],\n",
    "     [-5,-6,-7,-8]])\n",
    "X = tf.convert_to_tensor(_X)\n",
    "\n",
    "tf.segment_mean(X,[0,0,1,1]).eval()"
   ]
  },
  {
   "cell_type": "markdown",
   "metadata": {},
   "source": [
    "Q8. Compute the sum along the second and fourth and \n",
    "the first and third elements of X separately in the order."
   ]
  },
  {
   "cell_type": "code",
   "execution_count": 25,
   "metadata": {},
   "outputs": [
    {
     "data": {
      "text/plain": [
       "array([[ -9, -18, -27, -36],\n",
       "       [  9,  18,  27,  36]])"
      ]
     },
     "execution_count": 25,
     "metadata": {},
     "output_type": "execute_result"
    }
   ],
   "source": [
    "_X = np.array(\n",
    "    [[1,2,3,4], \n",
    "     [-1,-2,-3,-4], \n",
    "     [-10,-20,-30,-40],\n",
    "     [10,20,30,40]])\n",
    "X = tf.convert_to_tensor(_X)\n",
    "\n",
    "tf.unsorted_segment_sum(X,[0,1,0,1],2).eval()"
   ]
  },
  {
   "cell_type": "code",
   "execution_count": 26,
   "metadata": {},
   "outputs": [
    {
     "name": "stdout",
     "output_type": "stream",
     "text": [
      "Help on function unsorted_segment_sum in module tensorflow.python.ops.gen_math_ops:\n",
      "\n",
      "unsorted_segment_sum(data, segment_ids, num_segments, name=None)\n",
      "    Computes the sum along segments of a tensor.\n",
      "    \n",
      "    Read @{$math_ops#segmentation$the section on segmentation} for an explanation of\n",
      "    segments.\n",
      "    \n",
      "    Computes a tensor such that\n",
      "    `(output[i] = sum_{j...} data[j...]` where the sum is over tuples `j...` such\n",
      "    that `segment_ids[j...] == i`.  Unlike `SegmentSum`, `segment_ids`\n",
      "    need not be sorted and need not cover all values in the full\n",
      "    range of valid values.\n",
      "    \n",
      "    If the sum is empty for a given segment ID `i`, `output[i] = 0`.\n",
      "    If the given segment ID `i` is negative, the value is dropped and will not be\n",
      "    added to the sum of the segment.\n",
      "    \n",
      "    `num_segments` should equal the number of distinct segment IDs.\n",
      "    \n",
      "    <div style=\"width:70%; margin:auto; margin-bottom:10px; margin-top:20px;\">\n",
      "    <img style=\"width:100%\" src=\"https://www.tensorflow.org/images/UnsortedSegmentSum.png\" alt>\n",
      "    </div>\n",
      "    \n",
      "    Args:\n",
      "      data: A `Tensor`. Must be one of the following types: `float32`, `float64`, `int64`, `int32`, `uint8`, `uint16`, `int16`, `int8`, `complex64`, `complex128`, `qint8`, `quint8`, `qint32`, `half`, `uint32`, `uint64`, `bfloat16`.\n",
      "      segment_ids: A `Tensor`. Must be one of the following types: `int32`, `int64`.\n",
      "        A tensor whose shape is a prefix of `data.shape`.\n",
      "      num_segments: A `Tensor`. Must be one of the following types: `int32`, `int64`.\n",
      "      name: A name for the operation (optional).\n",
      "    \n",
      "    Returns:\n",
      "      A `Tensor`. Has the same type as `data`.\n",
      "      Has same shape as data, except for the first `segment_ids.rank`\n",
      "      dimensions, which are replaced with a single dimension which has size\n",
      "      `num_segments`.\n",
      "\n"
     ]
    }
   ],
   "source": [
    "help(tf.unsorted_segment_sum)"
   ]
  },
  {
   "cell_type": "markdown",
   "metadata": {},
   "source": [
    "## Sequence Comparison and Indexing \n"
   ]
  },
  {
   "cell_type": "markdown",
   "metadata": {},
   "source": [
    "Q9. Get the indices of maximum and minimum values of X along the second axis.\n"
   ]
  },
  {
   "cell_type": "code",
   "execution_count": 33,
   "metadata": {},
   "outputs": [
    {
     "name": "stdout",
     "output_type": "stream",
     "text": [
      "_X = [[4 1 7 3 9]\n",
      " [0 6 2 8 5]]\n"
     ]
    },
    {
     "data": {
      "text/plain": [
       "array([1, 0])"
      ]
     },
     "execution_count": 33,
     "metadata": {},
     "output_type": "execute_result"
    }
   ],
   "source": [
    "_X = np.random.permutation(10).reshape((2, 5))\n",
    "print(\"_X =\", _X)\n",
    "X = tf.convert_to_tensor(_X)\n",
    "\n",
    "tf.argmax(X,axis=1).eval()\n",
    "tf.argmin(X,axis=1).eval()"
   ]
  },
  {
   "cell_type": "markdown",
   "metadata": {},
   "source": [
    "Q10. Find the unique elements of x that are not present in y."
   ]
  },
  {
   "cell_type": "code",
   "execution_count": 43,
   "metadata": {},
   "outputs": [
    {
     "data": {
      "text/plain": [
       "array([2, 5])"
      ]
     },
     "execution_count": 43,
     "metadata": {},
     "output_type": "execute_result"
    }
   ],
   "source": [
    "_x = np.array([0, 1, 2, 5, 0])\n",
    "_y = np.array([0, 1, 4])\n",
    "x = tf.convert_to_tensor(_x)\n",
    "y = tf.convert_to_tensor(_y)\n",
    "\n",
    "out = tf.setdiff1d(x, y)[0]\n",
    "\n",
    "out.eval()"
   ]
  },
  {
   "cell_type": "markdown",
   "metadata": {},
   "source": [
    "Q11. Return the elements of X, if X < 4, otherwise X*10."
   ]
  },
  {
   "cell_type": "code",
   "execution_count": 44,
   "metadata": {},
   "outputs": [
    {
     "data": {
      "text/plain": [
       "array([[ 1,  2,  3],\n",
       "       [40, 50, 60],\n",
       "       [70, 80, 90]])"
      ]
     },
     "execution_count": 44,
     "metadata": {},
     "output_type": "execute_result"
    }
   ],
   "source": [
    "_X = np.arange(1, 10).reshape(3, 3)\n",
    "X = tf.convert_to_tensor(_X)\n",
    "\n",
    "out = tf.where(X < 4, X, X*10)\n",
    "out.eval()"
   ]
  },
  {
   "cell_type": "markdown",
   "metadata": {},
   "source": [
    "Q12. Get unique elements and their indices from x."
   ]
  },
  {
   "cell_type": "code",
   "execution_count": 45,
   "metadata": {},
   "outputs": [
    {
     "data": {
      "text/plain": [
       "array([0, 1, 2, 3, 1, 4, 1], dtype=int32)"
      ]
     },
     "execution_count": 45,
     "metadata": {},
     "output_type": "execute_result"
    }
   ],
   "source": [
    "_x = np.array([1, 2, 6, 4, 2, 3, 2])\n",
    "x = tf.convert_to_tensor(_x)\n",
    "\n",
    "out, indices = tf.unique(x)\n",
    "indices.eval()"
   ]
  },
  {
   "cell_type": "markdown",
   "metadata": {},
   "source": [
    "Q13. Compute the edit distance between hypothesis and truth."
   ]
  },
  {
   "cell_type": "code",
   "execution_count": 49,
   "metadata": {},
   "outputs": [
    {
     "data": {
      "text/plain": [
       "array([2.], dtype=float32)"
      ]
     },
     "execution_count": 49,
     "metadata": {},
     "output_type": "execute_result"
    }
   ],
   "source": [
    "# Check the documentation on tf.SparseTensor if you are not\n",
    "# comfortable with sparse tensor.\n",
    "hypothesis = tf.SparseTensor(\n",
    "    [[0, 0],[0, 1],[0, 2],[0, 4]],\n",
    "    [\"a\", \"b\", \"c\", \"a\"],\n",
    "    (1, 5)) \n",
    "# Note that this is equivalent to the dense tensor.\n",
    "# [[\"a\", \"b\", \"c\", 0, \"a\"]]\n",
    "\n",
    "truth = tf.SparseTensor(\n",
    "    [[0, 0],[0, 2],[0, 4]],\n",
    "    [\"a\", \"c\", \"b\"],\n",
    "    (1, 6))\n",
    "# This is equivalent to the dense tensor.\n",
    "# [[\"a\", 0, \"c\", 0, \"b\", 0]]\n",
    "\n",
    "tf.edit_distance(hypothesis,truth, normalize=True).eval()\n",
    "tf.edit_distance(hypothesis,truth, normalize=False).eval()"
   ]
  },
  {
   "cell_type": "code",
   "execution_count": null,
   "metadata": {
    "collapsed": true
   },
   "outputs": [],
   "source": []
  }
 ],
 "metadata": {
  "anaconda-cloud": {},
  "kernelspec": {
   "display_name": "Python 3",
   "language": "python",
   "name": "python3"
  },
  "language_info": {
   "codemirror_mode": {
    "name": "ipython",
    "version": 3
   },
   "file_extension": ".py",
   "mimetype": "text/x-python",
   "name": "python",
   "nbconvert_exporter": "python",
   "pygments_lexer": "ipython3",
   "version": "3.6.4"
  }
 },
 "nbformat": 4,
 "nbformat_minor": 1
}
